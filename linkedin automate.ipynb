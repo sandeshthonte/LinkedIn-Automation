{
 "cells": [
  {
   "cell_type": "code",
   "execution_count": 76,
   "metadata": {},
   "outputs": [],
   "source": [
    "import bs4\n",
    "from urllib.request import urlopen as uReq\n",
    "from bs4 import BeautifulSoup as soup\n",
    "from selenium.webdriver.common.by import By\n",
    "#from selenium.webdriver.common.options import Options\n",
    "from selenium import webdriver\n",
    "from selenium.webdriver.support.ui import WebDriverWait\n",
    "from selenium.webdriver.support import expected_conditions\n",
    "from selenium.webdriver.common.action_chains import ActionChains\n",
    "from selenium.webdriver.common.keys import Keys\n",
    "import pandas as pd\n",
    "import time\n",
    "import pickle"
   ]
  },
  {
   "cell_type": "code",
   "execution_count": 77,
   "metadata": {},
   "outputs": [],
   "source": [
    "my_url = \"https://www.linkedin.com/login/\"\n",
    "\n",
    "chrome_path = 'D:\\chromedriver'\n",
    "uClient = uReq(my_url)\n",
    "page_html = uClient.read()\n",
    "uClient.close()\n",
    "page_soup = soup(page_html, \"html.parser\")"
   ]
  },
  {
   "cell_type": "code",
   "execution_count": 78,
   "metadata": {},
   "outputs": [],
   "source": [
    "filename = \"events.csv\"\n",
    "# filenamenocsv = \"event companies\"\n",
    "f = open(filename, \"w\")\n",
    "headers = \"event name, date, timings, description, entry fees, visitors, exhibitors, organizer\""
   ]
  },
  {
   "cell_type": "code",
   "execution_count": 79,
   "metadata": {},
   "outputs": [],
   "source": [
    "#browser_options = Options()\n",
    "#browser_options.add_argument(\" - incognito\")\n",
    "browser = webdriver.Chrome(chrome_path)  # Able to successfully connect a web browser\n",
    "browser.maximize_window()\n",
    "browser.get(my_url)\n",
    "time.sleep(5)\n",
    "main_page = browser.current_window_handle"
   ]
  },
  {
   "cell_type": "code",
   "execution_count": 80,
   "metadata": {},
   "outputs": [],
   "source": [
    "username = browser.find_element_by_xpath(\"//input[@id = 'username']\")\n",
    "username.clear()\n",
    "username.send_keys('enter your email here');\n",
    "\n",
    "password = browser.find_element_by_xpath(\"//input[@name = 'session_password']\")\n",
    "password.clear()\n",
    "password.send_keys(\"enter password\")\n",
    "\n",
    "# browser.find_element_by_xpath(\"//input[@class = 'btn__primary--large from__button--floating']\").click()\n"
   ]
  },
  {
   "cell_type": "code",
   "execution_count": 81,
   "metadata": {
    "scrolled": true
   },
   "outputs": [],
   "source": [
    "submit = browser.find_element_by_xpath(\"//button[@class = 'btn__primary--large from__button--floating']\");\n",
    "submit.click()"
   ]
  },
  {
   "cell_type": "code",
   "execution_count": 82,
   "metadata": {},
   "outputs": [],
   "source": [
    "# searchButton = browser.find_element_by_xpath(\"//button[@class = 'search-global-typeahead__collapsed-search-button']\")\n",
    "# searchButton.click()\n",
    "\n",
    "searchInput = browser.find_element_by_xpath(\"//input[@class = 'search-global-typeahead__input always-show-placeholder']\")\n",
    "searchInput.clear()\n",
    "searchInput.send_keys(\"enter company name\")\n",
    "searchInput.send_keys(Keys.ENTER)\n"
   ]
  },
  {
   "cell_type": "code",
   "execution_count": 90,
   "metadata": {
    "scrolled": true
   },
   "outputs": [],
   "source": [
    "\n",
    "for i in range(100):\n",
    "#     connectButton = browser.find_element_by_xpath(\"//button[@class = 'artdeco-button artdeco-button--2 artdeco-button--secondary ember-view']\")\n",
    "    browser.execute_script(\"window.scrollTo(0, window.scrollY + 2)\")\n",
    "\n",
    "\n",
    "\n",
    "\n",
    "\n",
    "\n",
    "\n",
    "\n",
    "\n",
    "\n",
    "'''listcompany = browser.find_element_by_xpath('/html/body/div[3]/div[2]/div/div[2]/div[1]/div[2]/div/div/div[1]/div[2]/div/label/select')\n",
    "for option in listcompany.find_elements_by_tag_name('option'):\n",
    "    if option.text == 'Show all':\n",
    "        option.click()\n",
    "\n",
    "browser.execute_script(\"window.scrollTo(0, window.scrollY + 250)\")    \n",
    "    \n",
    "#scrolling down page\n",
    "companz = {}\n",
    "df = pd.DataFrame()\n",
    "for i in range (1, 147):\n",
    "    print(i)\n",
    "    companz = {}\n",
    "    if i%27 == 0:\n",
    "        browser.execute_script(\"window.scrollTo(0, window.scrollY + 270)\")   \n",
    "    if i%80 == 0:\n",
    "        browser.execute_script(\"window.scrollTo(0, window.scrollY - 200)\")  \n",
    "    if i%106 == 0:\n",
    "        browser.execute_script(\"window.scrollTo(0, window.scrollY - 200)\")     \n",
    "    if i%134 == 0:\n",
    "        browser.execute_script(\"window.scrollTo(0, window.scrollY - 200)\")   \n",
    "    if i%142 == 0:\n",
    "        browser.execute_script(\"window.scrollTo(0, window.scrollY - 200)\")   \n",
    "    browser.execute_script(\"window.scrollTo(0, window.scrollY + 290)\")\n",
    "    WebDriverWait(browser, 2).until(expected_conditions.visibility_of_element_located((By.XPATH, '//*[@id=\"tbl_event_exhibitors\"]/tbody/tr['+ str(i) + ']/td[2]/div/div/div[3]/div/a')))\n",
    "    elem = browser.find_element_by_xpath('//*[@id=\"tbl_event_exhibitors\"]/tbody/tr['+ str(i) + ']/td[2]/div/div/div[3]/div/a')\n",
    "    #browser.execute_script(\"arguments[0].scrollIntoView(true);\", elem)\n",
    "    elem.click()\n",
    "    time.sleep(3)\n",
    "    parent_h = browser.current_window_handle\n",
    "    handles = browser.window_handles\n",
    "    browser.switch_to_window\n",
    "    hey = browser.find_element_by_xpath('/html/body/div[3]/div[2]/div/div[2]/div[2]/div/div/div[2]/div/div[1]/div/div/div[2]/ul/li[1]')\n",
    "    companz['name'] = hey.text\n",
    "    hey2 = browser.find_element_by_xpath('/html/body/div[3]/div[2]/div/div[2]/div[2]/div/div/div[2]/div/div[1]/div/div/div[2]/ul/li[2]')\n",
    "    companz['address'] = hey2.text\n",
    "    hey3 = browser.find_element_by_xpath('/html/body/div[3]/div[2]/div/div[2]/div[2]/div/div/div[2]/div/div[1]/div/div/div[2]/ul/li[3]')\n",
    "    companz['contact_no'] = hey3.text\n",
    "    hey4 = browser.find_element_by_xpath('/html/body/div[3]/div[2]/div/div[2]/div[2]/div/div/div[2]/div/div[1]/div/div/div[2]/ul/li[4]')\n",
    "    companz['contact_id'] = hey4.text\n",
    "    hey5 = browser.find_element_by_xpath('/html/body/div[3]/div[2]/div/div[2]/div[2]/div/div/div[2]/div/div[1]/div/div/div[2]/ul/li[5]')\n",
    "    companz['website'] = hey5.text\n",
    "    hey6 = browser.find_element_by_xpath('/html/body/div[3]/div[2]/div/div[2]/div[2]/div/div/div[2]/div/div[1]/div/div/div[2]/ul/li[6]')\n",
    "    companz['country'] = hey6.text\n",
    "    hey7 = browser.find_element_by_xpath('/html/body/div[3]/div[2]/div/div[2]/div[2]/div/div/div[2]/div/div[1]/div/div/div[2]/ul/li[7]')\n",
    "    companz['services'] = hey7.text\n",
    "    print(companz)\n",
    "    browser.switch_to_window\n",
    "    browser.find_element_by_xpath('/html/body/div[3]/div[2]/div/div[2]/div[2]/div/div/div[1]/button').click()\n",
    "    time.sleep(1)\n",
    "    save_obj(companz, filenamenocsv) #used to retain accurate object format\n",
    "    df1 = pd.DataFrame({'name': [companz['name']], 'address': [companz['address']], 'contact_no': [companz['contact_no']], 'contact_id': [companz['contact_id']], 'website': [companz['website']], 'country': [companz['country']], 'services': [companz['services']], })\n",
    "    df = df.append(df1, ignore_index=True)\n",
    "\n",
    "'''\n"
   ]
  },
  {
   "cell_type": "code",
   "execution_count": 89,
   "metadata": {},
   "outputs": [],
   "source": [
    "# browser.close()"
   ]
  },
  {
   "cell_type": "code",
   "execution_count": null,
   "metadata": {},
   "outputs": [],
   "source": [
    "# df.to_csv(filename)\n",
    "\n",
    "# f.close()"
   ]
  },
  {
   "cell_type": "code",
   "execution_count": null,
   "metadata": {},
   "outputs": [],
   "source": []
  },
  {
   "cell_type": "code",
   "execution_count": null,
   "metadata": {},
   "outputs": [],
   "source": []
  }
 ],
 "metadata": {
  "kernelspec": {
   "display_name": "Python 3 (ipykernel)",
   "language": "python",
   "name": "python3"
  },
  "language_info": {
   "codemirror_mode": {
    "name": "ipython",
    "version": 3
   },
   "file_extension": ".py",
   "mimetype": "text/x-python",
   "name": "python",
   "nbconvert_exporter": "python",
   "pygments_lexer": "ipython3",
   "version": "3.10.0"
  }
 },
 "nbformat": 4,
 "nbformat_minor": 1
}
